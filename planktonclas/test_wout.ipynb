{
 "cells": [
  {
   "cell_type": "code",
   "execution_count": 2,
   "metadata": {},
   "outputs": [],
   "source": [
    "from planktonclas.data_utils import load_class_names, load_class_info, mount_nextcloud\n",
    "from planktonclas import paths, utils, config, test_utils\n"
   ]
  },
  {
   "cell_type": "code",
   "execution_count": 3,
   "metadata": {},
   "outputs": [
    {
     "name": "stderr",
     "output_type": "stream",
     "text": [
      "/srv/phyto-plankton-classification/planktonclas/data_utils.py:74: UserWarning: Error while mounting NextCloud: b'2023/06/08 13:18:54 NOTICE: Config file \"/root/.config/rclone/rclone.conf\" not found - using defaults\\n2023/06/08 13:18:54 Failed to create file system for \"rshare:/data/dataset_files\": didn\\'t find section in config file\\n'\n",
      "  warnings.warn(\"Error while mounting NextCloud: {}\".format(error))\n"
     ]
    },
    {
     "data": {
      "text/plain": [
       "(b'',\n",
       " b'2023/06/08 13:18:54 NOTICE: Config file \"/root/.config/rclone/rclone.conf\" not found - using defaults\\n2023/06/08 13:18:54 Failed to create file system for \"rshare:/data/dataset_files\": didn\\'t find section in config file\\n')"
      ]
     },
     "execution_count": 3,
     "metadata": {},
     "output_type": "execute_result"
    }
   ],
   "source": [
    "mount_nextcloud('rshare:/data/dataset_files', paths.get_splits_dir())"
   ]
  }
 ],
 "metadata": {
  "kernelspec": {
   "display_name": "Python 3",
   "language": "python",
   "name": "python3"
  },
  "orig_nbformat": 4
 },
 "nbformat": 4,
 "nbformat_minor": 2
}
